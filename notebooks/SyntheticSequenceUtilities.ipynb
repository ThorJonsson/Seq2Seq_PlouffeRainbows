{
 "cells": [
  {
   "cell_type": "markdown",
   "metadata": {},
   "source": [
    "These are the packages needed for the synthetic sequences"
   ]
  },
  {
   "cell_type": "code",
   "execution_count": 1,
   "metadata": {
    "collapsed": true
   },
   "outputs": [],
   "source": [
    "# Thor H. Jonsson\n",
    "import tensorflow as tf\n",
    "import numpy as np\n",
    "import pandas as pd\n",
    "import random"
   ]
  },
  {
   "cell_type": "markdown",
   "metadata": {},
   "source": [
    "To make sure that our RNN can solve simple tasks we introduce a synthetic dataset inspired by the fibonacci sequence"
   ]
  },
  {
   "cell_type": "markdown",
   "metadata": {},
   "source": [
    "Each sequence in this dataset can be described by the recursive relation\n",
    "x_i =  x_(i-1) + x_(i-2) mod basis_len \n",
    "where x_0 and x_1 are random initializations in the group of residues \n",
    "The different combinations of initial values available is basis_len^2 \n",
    "\n",
    "This allows us to tune the size of our synthetic dataset. It gives the residue classes which we want to classify for."
   ]
  },
  {
   "cell_type": "code",
   "execution_count": 16,
   "metadata": {
    "collapsed": true
   },
   "outputs": [],
   "source": [
    "basis_len = 10"
   ]
  },
  {
   "cell_type": "code",
   "execution_count": 18,
   "metadata": {
    "collapsed": true
   },
   "outputs": [],
   "source": [
    "def fibonacci(i, max_steps=10):\n",
    "    '''\n",
    "    Generates a single sequence according to the fibonacci relation residue basis_len as discussed above\n",
    "    \n",
    "    '''\n",
    "    j = np.random.randint(basis_len)\n",
    "    seq = [i,j]\n",
    "    steps = 2 \n",
    "    while steps < max_steps:\n",
    "        r = (seq[steps-2]+seq[steps-1]) % basis_len\n",
    "        seq.append(r)\n",
    "        steps += 1\n",
    "    return seq\n",
    "\n",
    "def make_fibonacci_data(size=50):\n",
    "    x = np.random.randint(basis_len,size=size)\n",
    "    df = pd.DataFrame(x)\n",
    "    df['fibonacci'] = df[0].apply(fibonacci)\n",
    "    return df "
   ]
  },
  {
   "cell_type": "markdown",
   "metadata": {},
   "source": [
    "Lets try generating a sample from this synthetic distribution"
   ]
  },
  {
   "cell_type": "code",
   "execution_count": 19,
   "metadata": {
    "collapsed": false
   },
   "outputs": [
    {
     "name": "stdout",
     "output_type": "stream",
     "text": [
      "[4, 4, 8, 2, 0, 2, 2, 4, 6, 0]\n"
     ]
    }
   ],
   "source": [
    "print fibonacci(4)"
   ]
  },
  {
   "cell_type": "code",
   "execution_count": 20,
   "metadata": {
    "collapsed": false
   },
   "outputs": [
    {
     "name": "stdout",
     "output_type": "stream",
     "text": [
      "    0                       fibonacci\n",
      "0   7  [7, 5, 2, 7, 9, 6, 5, 1, 6, 7]\n",
      "1   7  [7, 9, 6, 5, 1, 6, 7, 3, 0, 3]\n",
      "2   4  [4, 8, 2, 0, 2, 2, 4, 6, 0, 6]\n",
      "3   6  [6, 0, 6, 6, 2, 8, 0, 8, 8, 6]\n",
      "4   3  [3, 8, 1, 9, 0, 9, 9, 8, 7, 5]\n",
      "5   9  [9, 1, 0, 1, 1, 2, 3, 5, 8, 3]\n",
      "6   9  [9, 7, 6, 3, 9, 2, 1, 3, 4, 7]\n",
      "7   2  [2, 6, 8, 4, 2, 6, 8, 4, 2, 6]\n",
      "8   9  [9, 5, 4, 9, 3, 2, 5, 7, 2, 9]\n",
      "9   1  [1, 9, 0, 9, 9, 8, 7, 5, 2, 7]\n",
      "10  1  [1, 0, 1, 1, 2, 3, 5, 8, 3, 1]\n",
      "11  7  [7, 6, 3, 9, 2, 1, 3, 4, 7, 1]\n",
      "12  7  [7, 8, 5, 3, 8, 1, 9, 0, 9, 9]\n",
      "13  3  [3, 5, 8, 3, 1, 4, 5, 9, 4, 3]\n",
      "14  7  [7, 1, 8, 9, 7, 6, 3, 9, 2, 1]\n",
      "15  2  [2, 0, 2, 2, 4, 6, 0, 6, 6, 2]\n",
      "16  5  [5, 2, 7, 9, 6, 5, 1, 6, 7, 3]\n",
      "17  8  [8, 2, 0, 2, 2, 4, 6, 0, 6, 6]\n",
      "18  7  [7, 2, 9, 1, 0, 1, 1, 2, 3, 5]\n",
      "19  6  [6, 2, 8, 0, 8, 8, 6, 4, 0, 4]\n",
      "20  9  [9, 1, 0, 1, 1, 2, 3, 5, 8, 3]\n",
      "21  4  [4, 3, 7, 0, 7, 7, 4, 1, 5, 6]\n",
      "22  6  [6, 0, 6, 6, 2, 8, 0, 8, 8, 6]\n",
      "23  3  [3, 2, 5, 7, 2, 9, 1, 0, 1, 1]\n",
      "24  7  [7, 1, 8, 9, 7, 6, 3, 9, 2, 1]\n",
      "25  5  [5, 8, 3, 1, 4, 5, 9, 4, 3, 7]\n",
      "26  4  [4, 6, 0, 6, 6, 2, 8, 0, 8, 8]\n",
      "27  4  [4, 2, 6, 8, 4, 2, 6, 8, 4, 2]\n",
      "28  6  [6, 4, 0, 4, 4, 8, 2, 0, 2, 2]\n",
      "29  4  [4, 7, 1, 8, 9, 7, 6, 3, 9, 2]\n",
      "30  1  [1, 3, 4, 7, 1, 8, 9, 7, 6, 3]\n",
      "31  5  [5, 8, 3, 1, 4, 5, 9, 4, 3, 7]\n",
      "32  9  [9, 8, 7, 5, 2, 7, 9, 6, 5, 1]\n",
      "33  6  [6, 0, 6, 6, 2, 8, 0, 8, 8, 6]\n",
      "34  9  [9, 5, 4, 9, 3, 2, 5, 7, 2, 9]\n",
      "35  7  [7, 7, 4, 1, 5, 6, 1, 7, 8, 5]\n",
      "36  0  [0, 3, 3, 6, 9, 5, 4, 9, 3, 2]\n",
      "37  0  [0, 3, 3, 6, 9, 5, 4, 9, 3, 2]\n",
      "38  9  [9, 9, 8, 7, 5, 2, 7, 9, 6, 5]\n",
      "39  5  [5, 7, 2, 9, 1, 0, 1, 1, 2, 3]\n",
      "40  7  [7, 9, 6, 5, 1, 6, 7, 3, 0, 3]\n",
      "41  4  [4, 5, 9, 4, 3, 7, 0, 7, 7, 4]\n",
      "42  9  [9, 5, 4, 9, 3, 2, 5, 7, 2, 9]\n",
      "43  9  [9, 0, 9, 9, 8, 7, 5, 2, 7, 9]\n",
      "44  4  [4, 4, 8, 2, 0, 2, 2, 4, 6, 0]\n",
      "45  9  [9, 9, 8, 7, 5, 2, 7, 9, 6, 5]\n",
      "46  5  [5, 1, 6, 7, 3, 0, 3, 3, 6, 9]\n",
      "47  7  [7, 4, 1, 5, 6, 1, 7, 8, 5, 3]\n",
      "48  8  [8, 6, 4, 0, 4, 4, 8, 2, 0, 2]\n",
      "49  4  [4, 5, 9, 4, 3, 7, 0, 7, 7, 4]\n"
     ]
    }
   ],
   "source": [
    "print make_fibonacci_data()"
   ]
  },
  {
   "cell_type": "markdown",
   "metadata": {},
   "source": [
    "Now we have a dataset of 50 sequences. Lets make an iterator for this dataset."
   ]
  },
  {
   "cell_type": "markdown",
   "metadata": {},
   "source": [
    "We will initalize the iterator by giving it a list of 50 sequences, this conversion can be obtained by using pandas"
   ]
  },
  {
   "cell_type": "code",
   "execution_count": 21,
   "metadata": {
    "collapsed": true
   },
   "outputs": [],
   "source": [
    "# Simple bucket sequence iterator\n",
    "class BucketSequenceIterator(object):\n",
    "    # This class initializes a generator for a list of sequences\n",
    "    # The generator uses buckets for speed\n",
    "    def __init__(self, sequences, num_buckets = 5):\n",
    "        self.sequences = sorted(sequences, key=lambda sequence: len(sequence))\n",
    "        self.size = int(len(self.sequences)/num_buckets)\n",
    "        self.bucket_data = []\n",
    "        # Put the shortest sequences in the first bucket etc\n",
    "        # bucket_data is a list of 'buckets' where each bucket is a list of Sentences.\n",
    "        for bucket in range(num_buckets):\n",
    "            self.bucket_data.append(self.sequences[bucket*self.size: (bucket+1)*self.size -1])\n",
    "        self.num_buckets = num_buckets\n",
    "        self.cursor = np.array([0]*num_buckets)\n",
    "        self.shuffle()\n",
    "        self.epochs = 0\n",
    "\n",
    "    def shuffle(self):\n",
    "        #sorts dataframe by sequence length, but keeps it random within the same length\n",
    "        for i in range(self.num_buckets):\n",
    "            random.shuffle(self.bucket_data[i])\n",
    "            self.cursor[i] = 0\n",
    "\n",
    "    def next_batch(self, n):\n",
    "        # if any of the buckets is full go to next epoch\n",
    "        if np.any(self.cursor+n+1 > self.size):\n",
    "            self.epochs += 1\n",
    "            self.shuffle()\n",
    "\n",
    "        i = np.random.randint(0,self.num_buckets)\n",
    "        batch_seq = self.bucket_data[i][self.cursor[i]:self.cursor[i]+n]\n",
    "        batch_len = [len(s) for s in batch_seq]\n",
    "        self.cursor[i] += n        \n",
    "        maxlen = max(batch_len) + 1\n",
    "\n",
    "        # Pad sequences with 0s so they are all the same length\n",
    "        #### INPUT\n",
    "        x = np.zeros([n, maxlen+1], dtype=np.int32)\n",
    "        for i, x_i in enumerate(x):\n",
    "            x_i[0:batch_len[i]] = batch_seq[i]\n",
    "            \n",
    "        #### OUTPUT - 'simply' the input shifted by 1\n",
    "        y = np.zeros([n, maxlen+1], dtype=np.int32)\n",
    "        for i, y_i in enumerate(y):\n",
    "            y_i[1:batch_len[i]] = x[i][2:batch_len[i]+1]\n",
    "        \n",
    "        return x, y, batch_len\n"
   ]
  },
  {
   "cell_type": "code",
   "execution_count": 22,
   "metadata": {
    "collapsed": false
   },
   "outputs": [],
   "source": [
    "df = make_fibonacci_data()\n",
    "X = BucketSequenceIterator(df.fibonacci.tolist())"
   ]
  },
  {
   "cell_type": "code",
   "execution_count": 27,
   "metadata": {
    "collapsed": false
   },
   "outputs": [],
   "source": [
    "x,y,_ = X.next_batch(4)"
   ]
  },
  {
   "cell_type": "code",
   "execution_count": 28,
   "metadata": {
    "collapsed": false
   },
   "outputs": [
    {
     "name": "stdout",
     "output_type": "stream",
     "text": [
      "(array([9, 0, 9, 9, 8, 7, 5, 2, 7, 9, 0, 0], dtype=int32), array([0, 9, 9, 8, 7, 5, 2, 7, 9, 0, 0, 0], dtype=int32))\n"
     ]
    }
   ],
   "source": [
    "print (x[1], y[1])"
   ]
  },
  {
   "cell_type": "markdown",
   "metadata": {},
   "source": [
    "Yay, works!"
   ]
  }
 ],
 "metadata": {
  "anaconda-cloud": {},
  "kernelspec": {
   "display_name": "Python [conda env:DL2.7]",
   "language": "python",
   "name": "conda-env-DL2.7-py"
  },
  "language_info": {
   "codemirror_mode": {
    "name": "ipython",
    "version": 2
   },
   "file_extension": ".py",
   "mimetype": "text/x-python",
   "name": "python",
   "nbconvert_exporter": "python",
   "pygments_lexer": "ipython2",
   "version": "2.7.12"
  }
 },
 "nbformat": 4,
 "nbformat_minor": 2
}
